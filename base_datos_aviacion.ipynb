{
 "cells": [
  {
   "cell_type": "markdown",
   "metadata": {},
   "source": [
    "**PROCESO**"
   ]
  },
  {
   "cell_type": "code",
   "execution_count": 12,
   "metadata": {},
   "outputs": [],
   "source": [
    "import sqlite3\n",
    "import pandas as pd\n"
   ]
  },
  {
   "cell_type": "markdown",
   "metadata": {},
   "source": [
    "Conectar a la base de datos SQLite:\n",
    "\n",
    "    sqlite3.connect() establece una conexión a la base de datos archivo_base_datos.sqlite almacenada en el archivo local.\n",
    "    conexion es el objeto que representa la conexión con la base de datos y nos permitirá ejecutar consultas SQL y extraer datos."
   ]
  },
  {
   "cell_type": "code",
   "execution_count": 55,
   "metadata": {},
   "outputs": [],
   "source": [
    "conexion = sqlite3.connect('Aviacion_comercial.sqlite')\n"
   ]
  },
  {
   "cell_type": "markdown",
   "metadata": {},
   "source": [
    "Consulta para obtener los nombres de las tablas:\n",
    "\n",
    "    Consulta SQL: \"SELECT name FROM sqlite_master WHERE type='table';\" es una consulta SQL que devuelve los nombres de todas las tablas dentro de la base de datos.\n",
    "    pd.read_sql(): Este método ejecuta la consulta SQL sobre la base de datos conectada (conexion) y devuelve los resultados en un DataFrame de pandas. En este caso, el DataFrame tablas contendrá una columna llamada name, con los nombres de todas las tablas de la base de datos."
   ]
  },
  {
   "cell_type": "code",
   "execution_count": 56,
   "metadata": {},
   "outputs": [],
   "source": [
    "consulta_tablas = \"SELECT name FROM sqlite_master WHERE type='table';\"\n",
    "tablas = pd.read_sql(consulta_tablas, conexion)"
   ]
  },
  {
   "cell_type": "markdown",
   "metadata": {},
   "source": [
    "Inicializar un DataFrame vacío:\n",
    "\n",
    "    Creamos un DataFrame vacío llamado df_combinado. Este DataFrame se utilizará para combinar los datos de todas las tablas extraídas de la base de datos SQLite."
   ]
  },
  {
   "cell_type": "code",
   "execution_count": 57,
   "metadata": {},
   "outputs": [],
   "source": [
    "df_combinado = pd.DataFrame()"
   ]
  },
  {
   "cell_type": "markdown",
   "metadata": {},
   "source": [
    "Iterar sobre cada tabla y combinar los datos:"
   ]
  },
  {
   "cell_type": "code",
   "execution_count": 58,
   "metadata": {},
   "outputs": [],
   "source": [
    "for tabla in tablas['name']:\n",
    "    df_tabla = pd.read_sql(f\"SELECT rowid, * FROM {tabla}\", conexion)\n",
    "    df_combinado = pd.concat([df_combinado, df_tabla], ignore_index=True)\n"
   ]
  },
  {
   "cell_type": "markdown",
   "metadata": {},
   "source": [
    "Exportar el DataFrame combinado a un archivo CSV"
   ]
  },
  {
   "cell_type": "code",
   "execution_count": 59,
   "metadata": {},
   "outputs": [],
   "source": [
    "df_combinado.to_csv('archivo_combinado.csv', index=False)\n"
   ]
  },
  {
   "cell_type": "markdown",
   "metadata": {},
   "source": [
    "Importar el CSV a SQL Server Express usando Python (pandas y SQLAlchemy)"
   ]
  },
  {
   "cell_type": "markdown",
   "metadata": {},
   "source": [
    "Instalar SQLAlchemy y pyodbc"
   ]
  },
  {
   "cell_type": "markdown",
   "metadata": {},
   "source": [
    "Usando \"pip install sqlalchemy pyodbc\" en nueva terminal"
   ]
  },
  {
   "cell_type": "markdown",
   "metadata": {},
   "source": [
    "Configurar la conexión a SQL Server."
   ]
  },
  {
   "cell_type": "code",
   "execution_count": 60,
   "metadata": {},
   "outputs": [],
   "source": [
    "# import pandas as pd\n",
    "from sqlalchemy import create_engine\n"
   ]
  },
  {
   "cell_type": "code",
   "execution_count": 61,
   "metadata": {},
   "outputs": [
    {
     "name": "stderr",
     "output_type": "stream",
     "text": [
      "C:\\Users\\Belkys Dellamea\\AppData\\Local\\Temp\\ipykernel_1448\\2718301568.py:3: DtypeWarning: Columns (1,2,4,5,6,7,8,12,13,14,16,17,18,19,20,21,22,23,24,26) have mixed types. Specify dtype option on import or set low_memory=False.\n",
      "  df = pd.read_csv(archivo_csv)\n"
     ]
    }
   ],
   "source": [
    "# Cargar el archivo CSV en un DataFrame de pandas\n",
    "archivo_csv = 'archivo_combinado.csv'\n",
    "df = pd.read_csv(archivo_csv)"
   ]
  },
  {
   "cell_type": "code",
   "execution_count": 9,
   "metadata": {},
   "outputs": [
    {
     "name": "stderr",
     "output_type": "stream",
     "text": [
      "C:\\Users\\Belkys Dellamea\\AppData\\Local\\Temp\\ipykernel_11688\\592756321.py:4: DtypeWarning: Columns (1,2,4,5,6,7,8,12,13,14,16,17,18,19,20,21,22,23,24,26) have mixed types. Specify dtype option on import or set low_memory=False.\n",
      "  df_combinado = pd.read_csv('archivo_combinado.csv')\n"
     ]
    },
    {
     "name": "stdout",
     "output_type": "stream",
     "text": [
      "Total de valores NaN en todas las tablas: 0.0\n"
     ]
    }
   ],
   "source": [
    "# import pandas as pd\n",
    "import matplotlib.pyplot as plt\n",
    "import seaborn as sns\n",
    "df_combinado = pd.read_csv('archivo_combinado.csv')\n",
    "\n",
    "#Separacion de las tablas\n",
    "\n",
    "# Aircraft data\n",
    "aircraft_data = df_combinado[['aircraft_code', 'model', 'range']].dropna()\n",
    "\n",
    "# Airports data\n",
    "airports_data = df_combinado[['airport_code', 'airport_name', 'city', 'coordinates', 'timezone']].dropna()\n",
    "\n",
    "# Bookings data\n",
    "bookings = df_combinado[['book_ref', 'book_date', 'total_amount']].dropna()\n",
    "\n",
    "# Tickets data\n",
    "tickets = df_combinado[['ticket_no', 'book_ref', 'passenger_id']].dropna()\n",
    "\n",
    "# Flights data\n",
    "flights = df_combinado[['flight_id', 'flight_no', 'scheduled_arrival', 'scheduled_departure', 'departure_airport',\n",
    "                           'arrival_airport', 'status', 'aircraft_code', 'actual_departure', 'actual_arrival']].dropna()\n",
    "\n",
    "# Seats data\n",
    "seats = df_combinado[['aircraft_code', 'seat_no', 'fare_conditions']].dropna()\n",
    "\n",
    "# Boarding Passes data\n",
    "boarding_passes = df_combinado[['ticket_no', 'flight_id', 'boarding_no', 'seat_no']].dropna()\n",
    "\n",
    "# Ticket Flights data\n",
    "ticket_flights = df_combinado[['ticket_no', 'flight_id', 'fare_conditions']].dropna()\n",
    "\n",
    "# Lista de DataFrames con sus nombres\n",
    "dataframes = {\n",
    "    'aircraft_data': aircraft_data,\n",
    "    'airports_data': airports_data,\n",
    "    'tickets': tickets,\n",
    "    'bookings': bookings,\n",
    "    'flights': flights,\n",
    "    'seats': seats,\n",
    "    'boarding_passes': boarding_passes,\n",
    "    'ticket_flights': ticket_flights\n",
    "}\n",
    "\n",
    "# Crear un DataFrame para almacenar los conteos de valores nulos\n",
    "nan_summary = pd.DataFrame()\n",
    "\n",
    "# Cuantificar los valores nulos en cada tabla y columna\n",
    "for name, df in dataframes.items():\n",
    "    nan_counts = df.isna().sum()\n",
    "    nan_summary[name] = nan_counts\n",
    "\n",
    "# Calcular el total de NaN por tabla (sumando todos los valores nulos en las columnas de cada tabla)\n",
    "total_nan_por_tabla = nan_summary.sum()\n",
    "\n",
    "# Calcular el total de NaN en todo el conjunto de datos (sumando todos los NaN por tabla)\n",
    "total_nan = total_nan_por_tabla.sum()\n",
    "\n",
    "# Imprimir un único número: el total de NaN en todas las tablas\n",
    "print(f\"Total de valores NaN en todas las tablas: {total_nan}\")"
   ]
  },
  {
   "cell_type": "code",
   "execution_count": 10,
   "metadata": {},
   "outputs": [
    {
     "name": "stdout",
     "output_type": "stream",
     "text": [
      "Total de NaN en la tabla aircraft_data: 0\n",
      "Total de NaN en la tabla airports_data: 0\n",
      "Total de NaN en la tabla tickets: 0\n",
      "Total de NaN en la tabla bookings: 0\n",
      "Total de NaN en la tabla flights: 0\n",
      "Total de NaN en la tabla seats: 0\n",
      "Total de NaN en la tabla boarding_passes: 0\n",
      "Total de NaN en la tabla ticket_flights: 0\n"
     ]
    }
   ],
   "source": [
    "# Cuantificar los valores nulos en cada tabla\n",
    "for name, df in dataframes.items():\n",
    "    nan_counts = df.isna().sum().sum()  # Suma total de NaN en cada tabla\n",
    "    print(f\"Total de NaN en la tabla {name}: {nan_counts}\")"
   ]
  },
  {
   "cell_type": "code",
   "execution_count": 7,
   "metadata": {},
   "outputs": [
    {
     "data": {
      "image/png": "[encoded data removed]",
      "text/plain": [
       "<Figure size 1200x800 with 2 Axes>"
      ]
     },
     "metadata": {},
     "output_type": "display_data"
    }
   ],
   "source": [
    "# Graficar los valores NaN usando un heatmap\n",
    "plt.figure(figsize=(12, 8))\n",
    "sns.heatmap(nan_summary, annot=True, cmap='coolwarm', cbar=True)\n",
    "plt.title('Cantidad de valores NaN por Tabla y Columna')\n",
    "plt.xticks(rotation=45)\n",
    "plt.yticks(rotation=0)\n",
    "plt.tight_layout()\n",
    "plt.show()"
   ]
  },
  {
   "cell_type": "code",
   "execution_count": 11,
   "metadata": {},
   "outputs": [
    {
     "name": "stdout",
     "output_type": "stream",
     "text": [
      "Tabla: aircraft_data - NaN: 0, Vacíos: 0\n",
      "Tabla: airports_data - NaN: 0, Vacíos: 0\n",
      "Tabla: tickets - NaN: 0, Vacíos: 0\n",
      "Tabla: bookings - NaN: 0, Vacíos: 0\n",
      "Tabla: flights - NaN: 0, Vacíos: 0\n",
      "Tabla: seats - NaN: 0, Vacíos: 0\n",
      "Tabla: boarding_passes - NaN: 0, Vacíos: 0\n",
      "Tabla: ticket_flights - NaN: 0, Vacíos: 0\n",
      "\n",
      "Total de valores NaN en todas las tablas: 0\n",
      "Total de valores vacíos en todas las tablas: 0\n"
     ]
    }
   ],
   "source": [
    "# Función para contar NaN y valores vacíos\n",
    "def contar_nulos_vacios(df):\n",
    "    # Contar NaN\n",
    "    nulos = df.isna().sum().sum()\n",
    "    # Contar valores vacíos (cadenas vacías \"\")\n",
    "    vacios = (df == \"\").sum().sum()\n",
    "    return nulos, vacios\n",
    "\n",
    "# Inicializar variables para el total\n",
    "total_nan = 0\n",
    "total_vacios = 0\n",
    "\n",
    "# Cuantificar los valores nulos y vacíos en cada tabla\n",
    "for name, df in dataframes.items():\n",
    "    nulos, vacios = contar_nulos_vacios(df)\n",
    "    total_nan += nulos\n",
    "    total_vacios += vacios\n",
    "    print(f\"Tabla: {name} - NaN: {nulos}, Vacíos: {vacios}\")\n",
    "\n",
    "# Calcular el total de NaN y vacíos en todo el conjunto de datos\n",
    "print(f\"\\nTotal de valores NaN en todas las tablas: {total_nan}\")\n",
    "print(f\"Total de valores vacíos en todas las tablas: {total_vacios}\")"
   ]
  },
  {
   "cell_type": "markdown",
   "metadata": {},
   "source": [
    "El codigo de abajo es correcto v"
   ]
  },
  {
   "cell_type": "code",
   "execution_count": 38,
   "metadata": {},
   "outputs": [],
   "source": [
    "import pyodbc\n",
    "\n",
    "\"\"\" conn_str = 'DRIVER={ODBC Driver 17 for SQL Server};SERVER=DESKTOP-C48C4LP\\\\SQLEXPRESS;DATABASE=base_aviacion;Trusted_Connection=yes;' \"\"\"\n",
    "\n",
    "conn_str = 'DRIVER={ODBC Driver 17 for SQL Server};SERVER=DESKTOP-C48C4LP\\\\SQLEXPRESS;DATABASE=master;Trusted_Connection=yes;'\n",
    "connection = pyodbc.connect(conn_str, autocommit=True)\n"
   ]
  },
  {
   "cell_type": "code",
   "execution_count": 39,
   "metadata": {},
   "outputs": [],
   "source": [
    "# Crear cursor\n",
    "cursor = connection.cursor()"
   ]
  },
  {
   "cell_type": "code",
   "execution_count": null,
   "metadata": {},
   "outputs": [],
   "source": [
    "# Crear base de datos\n",
    "create_db_query = \"CREATE DATABASE base_aviacion\"\n"
   ]
  },
  {
   "cell_type": "code",
   "execution_count": 41,
   "metadata": {},
   "outputs": [
    {
     "name": "stdout",
     "output_type": "stream",
     "text": [
      "Base de datos creada exitosamente.\n"
     ]
    }
   ],
   "source": [
    "try:\n",
    "    cursor.execute(create_db_query)\n",
    "    print(\"Base de datos creada exitosamente.\")\n",
    "except pyodbc.Error as e:\n",
    "    print(\"Error al crear la base de datos ya existe:\", e)\n",
    "\n",
    "# Cerrar cursor y conexión\n",
    "cursor.close()\n",
    "connection.close()"
   ]
  },
  {
   "cell_type": "code",
   "execution_count": 42,
   "metadata": {},
   "outputs": [
    {
     "name": "stdout",
     "output_type": "stream",
     "text": [
      "Tablas creadas exitosamente.\n"
     ]
    }
   ],
   "source": [
    "conn_str = 'DRIVER={ODBC Driver 17 for SQL Server};SERVER=DESKTOP-C48C4LP\\\\SQLEXPRESS;DATABASE=base_aviacion;Trusted_Connection=yes;'\n",
    "connection = pyodbc.connect(conn_str, autocommit=True)\n",
    "cursor = connection.cursor()    \n",
    "try:\n",
    "    cursor.execute('''\n",
    "    -- Tabla Aircraft Data\n",
    "    CREATE TABLE aircraft_data (\n",
    "        aircraft_code VARCHAR(10) PRIMARY KEY,\n",
    "        model VARCHAR(100),\n",
    "        range DECIMAL(10, 2)\n",
    "    );\n",
    "    ''')\n",
    "\n",
    "    cursor.execute('''\n",
    "    -- Tabla Airports Data\n",
    "    CREATE TABLE airports_data (\n",
    "        airport_code VARCHAR(10) PRIMARY KEY,\n",
    "        airport_name VARCHAR(100),\n",
    "        city VARCHAR(100),\n",
    "        coordinates VARCHAR(100),\n",
    "        timezone VARCHAR(50)\n",
    "    );\n",
    "    ''')\n",
    "\n",
    "    cursor.execute('''\n",
    "    -- Tabla Bookings\n",
    "    CREATE TABLE bookings (\n",
    "        rowid INT IDENTITY(1,1) PRIMARY KEY,\n",
    "        book_ref VARCHAR(20) UNIQUE,\n",
    "        book_date DATETIME2,\n",
    "        total_amount DECIMAL(10, 2)\n",
    "    );\n",
    "    ''')\n",
    "\n",
    "    cursor.execute('''\n",
    "    -- Tabla Tickets\n",
    "    CREATE TABLE tickets (\n",
    "        rowid INT IDENTITY(1,1) PRIMARY KEY,\n",
    "        ticket_no BIGINT UNIQUE,\n",
    "        book_ref VARCHAR(20),\n",
    "        passenger_id VARCHAR(20),\n",
    "        FOREIGN KEY (book_ref) REFERENCES bookings(book_ref)\n",
    "    );\n",
    "    ''')\n",
    "\n",
    "    cursor.execute('''\n",
    "    -- Tabla Flights\n",
    "    CREATE TABLE flights (\n",
    "        rowid INT IDENTITY(1,1) PRIMARY KEY,\n",
    "        flight_id INT UNIQUE,\n",
    "        flight_no VARCHAR(10),\n",
    "        scheduled_arrival DATETIME2,\n",
    "        scheduled_departure DATETIME2,\n",
    "        departure_airport VARCHAR(10),\n",
    "        arrival_airport VARCHAR(10),\n",
    "        status VARCHAR(20),\n",
    "        aircraft_code VARCHAR(10),\n",
    "        actual_departure DATETIME2,\n",
    "        actual_arrival DATETIME2,\n",
    "        FOREIGN KEY (departure_airport) REFERENCES airports_data(airport_code),\n",
    "        FOREIGN KEY (arrival_airport) REFERENCES airports_data(airport_code),\n",
    "        FOREIGN KEY (aircraft_code) REFERENCES aircraft_data(aircraft_code)\n",
    "    );\n",
    "    ''')\n",
    "\n",
    "    cursor.execute('''\n",
    "    -- Tabla Seats\n",
    "    CREATE TABLE seats (\n",
    "        rowid INT IDENTITY(1,1) PRIMARY KEY,\n",
    "        aircraft_code VARCHAR(10),\n",
    "        seat_no VARCHAR(10),\n",
    "        fare_conditions VARCHAR(50),\n",
    "        FOREIGN KEY (aircraft_code) REFERENCES aircraft_data(aircraft_code)\n",
    "    );\n",
    "    ''')\n",
    "\n",
    "    cursor.execute('''\n",
    "    -- Tabla Boarding Passes\n",
    "    CREATE TABLE boarding_passes (\n",
    "        rowid INT IDENTITY(1,1) PRIMARY KEY,\n",
    "        ticket_no BIGINT,\n",
    "        flight_id INT,\n",
    "        boarding_no INT,\n",
    "        seat_no VARCHAR(10),\n",
    "        FOREIGN KEY (ticket_no) REFERENCES tickets(ticket_no),\n",
    "        FOREIGN KEY (flight_id) REFERENCES flights(flight_id)\n",
    "    );\n",
    "    ''')\n",
    "\n",
    "    cursor.execute('''\n",
    "    -- Tabla Ticket Flights\n",
    "    CREATE TABLE ticket_flights (\n",
    "        rowid INT IDENTITY(1,1) PRIMARY KEY,\n",
    "        ticket_no BIGINT,\n",
    "        flight_id INT,\n",
    "        fare_conditions VARCHAR(50),\n",
    "        FOREIGN KEY (ticket_no) REFERENCES tickets(ticket_no),\n",
    "        FOREIGN KEY (flight_id) REFERENCES flights(flight_id)\n",
    "    );\n",
    "    ''')\n",
    "\n",
    "    # Confirmar los cambios\n",
    "    connection.commit()\n",
    "    print(\"Tablas creadas exitosamente.\")\n",
    "\n",
    "except pyodbc.Error as e:\n",
    "    print(\"Error al conectarse a la base de datos:\", e)\n",
    "finally:\n",
    "    # Cerrar cursor y conexión\n",
    "    if 'cursor' in locals():\n",
    "        cursor.close()\n",
    "    if 'connection' in locals():\n",
    "        connection.close()"
   ]
  },
  {
   "cell_type": "code",
   "execution_count": null,
   "metadata": {},
   "outputs": [
    {
     "name": "stderr",
     "output_type": "stream",
     "text": [
      "C:\\Users\\Belkys Dellamea\\AppData\\Local\\Temp\\ipykernel_11404\\1985339277.py:7: DtypeWarning: Columns (1,2,4,5,6,7,8,12,13,14,16,17,18,19,20,21,22,23,24,26) have mixed types. Specify dtype option on import or set low_memory=False.\n",
      "  df_combinado = pd.read_csv('archivo_combinado.csv')\n"
     ]
    },
    {
     "name": "stdout",
     "output_type": "stream",
     "text": [
      "Number of rows: 9\n",
      "  aircraft_code                                              model   range\n",
      "4           321  {\"en\": \"Airbus A321-200\", \"ru\": \"Аэробус A321-...  5600.0\n",
      "5           319  {\"en\": \"Airbus A319-100\", \"ru\": \"Аэробус A319-...  6700.0\n",
      "6           733    {\"en\": \"Boeing 737-300\", \"ru\": \"Боинг 737-300\"}  4200.0\n",
      "7           CN1  {\"en\": \"Cessna 208 Caravan\", \"ru\": \"Сессна 208...  1200.0\n",
      "8           CR2  {\"en\": \"Bombardier CRJ-200\", \"ru\": \"Бомбардье ...  2700.0\n",
      "0\n",
      "\n",
      "    INSERT INTO aircraft_data (aircraft_code, model, range)\n",
      "    VALUES (?, ?, ?)\n",
      " 773 {\"en\": \"Boeing 777-300\", \"ru\": \"Боинг 777-300\"} 11100.0\n",
      "1\n",
      "\n",
      "    INSERT INTO aircraft_data (aircraft_code, model, range)\n",
      "    VALUES (?, ?, ?)\n",
      " 763 {\"en\": \"Boeing 767-300\", \"ru\": \"Боинг 767-300\"} 7900.0\n",
      "2\n",
      "\n",
      "    INSERT INTO aircraft_data (aircraft_code, model, range)\n",
      "    VALUES (?, ?, ?)\n",
      " SU9 {\"en\": \"Sukhoi Superjet-100\", \"ru\": \"Сухой Суперджет-100\"} 3000.0\n",
      "3\n",
      "\n",
      "    INSERT INTO aircraft_data (aircraft_code, model, range)\n",
      "    VALUES (?, ?, ?)\n",
      " 320 {\"en\": \"Airbus A320-200\", \"ru\": \"Аэробус A320-200\"} 5700.0\n",
      "4\n",
      "\n",
      "    INSERT INTO aircraft_data (aircraft_code, model, range)\n",
      "    VALUES (?, ?, ?)\n",
      " 321 {\"en\": \"Airbus A321-200\", \"ru\": \"Аэробус A321-200\"} 5600.0\n",
      "5\n",
      "\n",
      "    INSERT INTO aircraft_data (aircraft_code, model, range)\n",
      "    VALUES (?, ?, ?)\n",
      " 319 {\"en\": \"Airbus A319-100\", \"ru\": \"Аэробус A319-100\"} 6700.0\n",
      "6\n",
      "\n",
      "    INSERT INTO aircraft_data (aircraft_code, model, range)\n",
      "    VALUES (?, ?, ?)\n",
      " 733 {\"en\": \"Boeing 737-300\", \"ru\": \"Боинг 737-300\"} 4200.0\n",
      "7\n",
      "\n",
      "    INSERT INTO aircraft_data (aircraft_code, model, range)\n",
      "    VALUES (?, ?, ?)\n",
      " CN1 {\"en\": \"Cessna 208 Caravan\", \"ru\": \"Сессна 208 Караван\"} 1200.0\n",
      "8\n",
      "\n",
      "    INSERT INTO aircraft_data (aircraft_code, model, range)\n",
      "    VALUES (?, ?, ?)\n",
      " CR2 {\"en\": \"Bombardier CRJ-200\", \"ru\": \"Бомбардье CRJ-200\"} 2700.0\n",
      "finalizo airports_data\n",
      "       book_ref book_date  total_amount\n",
      "579799   00000F       NaT      265700.0\n",
      "579800   000012       NaT       37900.0\n",
      "579801   000068       NaT       18100.0\n",
      "579802   000181       NaT      131800.0\n",
      "579803   0002D8       NaT       23600.0\n",
      "...         ...       ...           ...\n",
      "842582   FFFEF3       NaT       56000.0\n",
      "842583   FFFF2C       NaT       10800.0\n",
      "842584   FFFF43       NaT       78500.0\n",
      "842585   FFFFA8       NaT       28800.0\n",
      "842586   FFFFF7       NaT       73600.0\n",
      "\n",
      "[262788 rows x 3 columns]\n",
      "finalizo bookings\n",
      "finalizo ticket\n",
      "finalizo flights\n",
      "finalizo seats\n",
      "finalizo boarding_passes\n",
      "finalizo tickets_flights\n",
      "Datos insertados exitosamente.\n"
     ]
    }
   ],
   "source": [
    "conn_str = 'DRIVER={ODBC Driver 17 for SQL Server};SERVER=DESKTOP-C48C4LP\\\\SQLEXPRESS;DATABASE=base_aviacion;Trusted_Connection=yes;'\n",
    "connection = pyodbc.connect(conn_str, autocommit=True)\n",
    "cursor = connection.cursor()\n",
    "\n",
    "\n",
    "df_combinado = pd.read_csv('archivo_combinado.csv')\n",
    "\n",
    "#Separacion de las tablas\n",
    "\n",
    "# Aircraft data\n",
    "df_aircraft_data = df_combinado[['aircraft_code', 'model', 'range']].dropna()\n",
    "\n",
    "# Airports data\n",
    "df_airports_data = df_combinado[['airport_code', 'airport_name', 'city', 'coordinates', 'timezone']].dropna()\n",
    "\n",
    "# Bookings data\n",
    "df_bookings = df_combinado[['book_ref', 'book_date', 'total_amount']].dropna()\n",
    "\n",
    "# Tickets data\n",
    "df_tickets = df_combinado[['ticket_no', 'book_ref', 'passenger_id']].dropna()\n",
    "\n",
    "# Flights data\n",
    "df_flights = df_combinado[['flight_id', 'flight_no', 'scheduled_arrival', 'scheduled_departure', 'departure_airport',\n",
    "                           'arrival_airport', 'status', 'aircraft_code', 'actual_departure', 'actual_arrival']].dropna()\n",
    "\n",
    "# Seats data\n",
    "df_seats = df_combinado[['aircraft_code', 'seat_no', 'fare_conditions']].dropna()\n",
    "\n",
    "# Boarding Passes data\n",
    "df_boarding_passes = df_combinado[['ticket_no', 'flight_id', 'boarding_no', 'seat_no']].dropna()\n",
    "\n",
    "# Ticket Flights data\n",
    "df_ticket_flights = df_combinado[['ticket_no', 'flight_id', 'fare_conditions']].dropna()\n",
    "\n",
    "print(f\"Number of rows: {df_aircraft_data.shape[0]}\")\n",
    "\n",
    "print(df_aircraft_data.tail())\n",
    "\n",
    "# Insertar datos en la tabla aircraft_data\n",
    "insert_aircraft_data = \"\"\"\n",
    "    INSERT INTO aircraft_data (aircraft_code, model, range)\n",
    "    VALUES (?, ?, ?)\n",
    "\"\"\"\n",
    "\n",
    "# Insertar los datos fila por fila\n",
    "for index, row in df_aircraft_data.iterrows():\n",
    "    print(index)\n",
    "    print(insert_aircraft_data, row['aircraft_code'], row['model'], row['range'])\n",
    "    cursor.execute(insert_aircraft_data, row['aircraft_code'], row['model'], row['range'])\n",
    "\n",
    "\n",
    "# Insertar datos en la tabla airports_data\n",
    "insert_airports_data = \"\"\"\n",
    "    INSERT INTO airports_data (airport_code, airport_name, city, coordinates, timezone)\n",
    "    VALUES (?, ?, ?, ?, ?)\n",
    "\"\"\"\n",
    "\n",
    "for index, row in df_airports_data.iterrows():\n",
    "    cursor.execute(insert_airports_data, row['airport_code'], row['airport_name'], row['city'], row['coordinates'], row['timezone'])\n",
    "\n",
    "print('finalizo airports_data')\n",
    "\n",
    "\n",
    "# Insertar datos en la tabla bookings\n",
    "insert_bookings = \"\"\"\n",
    "    INSERT INTO bookings (book_ref, book_date, total_amount)\n",
    "    VALUES (?, ?, ?)\n",
    "\"\"\"\n",
    "# Convertir la columna 'book_date' a formato datetime\n",
    "df_bookings['book_date'] = pd.to_datetime(df_bookings['book_date'], format='%Y-%m-%d', errors='coerce')\n",
    "\n",
    "# Verificar si hay fechas inválidas\n",
    "print(df_bookings[df_bookings['book_date'].isna()])\n",
    "\n",
    "\n",
    "\n",
    "for index, row in df_bookings.iterrows():\n",
    "    cursor.execute(insert_bookings, row['book_ref'], row['book_date'], row['total_amount'])\n",
    "\n",
    "print('finalizo bookings')\n",
    "\n",
    "# Insertar datos en la tabla tickets\n",
    "insert_tickets = \"\"\"\n",
    "    INSERT INTO tickets (ticket_no, book_ref, passenger_id)\n",
    "    VALUES (?, ?, ?)\n",
    "\"\"\"\n",
    "\n",
    "df_tickets = df_tickets.drop_duplicates(subset='ticket_no', keep='first')\n",
    "\n",
    "for index, row in df_tickets.iterrows():\n",
    "    # Verificar si el ticket ya existe\n",
    "    cursor.execute(\"SELECT COUNT(*) FROM tickets WHERE ticket_no = ?\", (row['ticket_no'],))\n",
    "    if cursor.fetchone()[0] == 0:  # Si no existe, insertar\n",
    "        cursor.execute(insert_tickets, row['ticket_no'], row['book_ref'], row['passenger_id'])\n",
    "\n",
    "print('finalizo ticket')\n",
    "\"\"\" for index, row in df_tickets.iterrows():\n",
    "    cursor.execute(insert_tickets, row['ticket_no'], row['book_ref'], row['passenger_id']) \"\"\"\n",
    "\n",
    "\n",
    "# Insertar datos en la tabla flights\n",
    "insert_flights = \"\"\"\n",
    "    INSERT INTO flights (flight_id, flight_no, scheduled_arrival, scheduled_departure, \n",
    "                         departure_airport, arrival_airport, status, aircraft_code, actual_departure, actual_arrival)\n",
    "    VALUES (?, ?, ?, ?, ?, ?, ?, ?, ?, ?)\n",
    "\"\"\"\n",
    "# Convertir la columna 'book_date' a formato datetime\n",
    "df_flights['scheduled_arrival'] = pd.to_datetime(df_flights['scheduled_arrival'], format='%Y-%m-%d', errors='coerce')\n",
    "df_flights['scheduled_departure'] = pd.to_datetime(df_flights['scheduled_departure'], format='%Y-%m-%d', errors='coerce')\n",
    "df_flights['actual_departure'] = pd.to_datetime(df_flights['actual_departure'], format='%Y-%m-%d', errors='coerce')\n",
    "df_flights['actual_arrival'] = pd.to_datetime(df_flights['actual_arrival'], format='%Y-%m-%d', errors='coerce')\n",
    "\n",
    "for index, row in df_flights.iterrows():\n",
    "    cursor.execute(insert_flights, row['flight_id'], row['flight_no'], row['scheduled_arrival'], row['scheduled_departure'],\n",
    "                   row['departure_airport'], row['arrival_airport'], row['status'], row['aircraft_code'], \n",
    "                   row['actual_departure'], row['actual_arrival'])\n",
    "print('finalizo flights')\n",
    "\n",
    "\n",
    "# Insertar datos en la tabla seats\n",
    "insert_seats = \"\"\"\n",
    "    INSERT INTO seats (aircraft_code, seat_no, fare_conditions)\n",
    "    VALUES (?, ?, ?)\n",
    "\"\"\"\n",
    "\n",
    "for index, row in df_seats.iterrows():\n",
    "    cursor.execute(insert_seats, row['aircraft_code'], row['seat_no'], row['fare_conditions'])\n",
    "print('finalizo seats')\n",
    "\n",
    "\n",
    "# Insertar datos en la tabla boarding_passes\n",
    "insert_boarding_passes = \"\"\"\n",
    "    INSERT INTO boarding_passes (ticket_no, flight_id, boarding_no, seat_no)\n",
    "    VALUES (?, ?, ?, ?)\n",
    "\"\"\"\n",
    "\n",
    "for index, row in df_boarding_passes.iterrows():\n",
    "    cursor.execute(insert_boarding_passes, row['ticket_no'], row['flight_id'], row['boarding_no'], row['seat_no'])\n",
    "print('finalizo boarding_passes')\n",
    "\n",
    "\n",
    "# Insertar datos en la tabla ticket_flights\n",
    "insert_ticket_flights = \"\"\"\n",
    "    INSERT INTO ticket_flights (ticket_no, flight_id, fare_conditions)\n",
    "    VALUES (?, ?, ?)\n",
    "\"\"\"\n",
    "\n",
    "for index, row in df_ticket_flights.iterrows():\n",
    "    cursor.execute(insert_ticket_flights, row['ticket_no'], row['flight_id'], row['fare_conditions'])\n",
    "print('finalizo tickets_flights')\n",
    "\n",
    "# Hacer commit para guardar los cambios\n",
    "connection.commit()\n",
    "\n",
    "# Cerrar cursor y conexión\n",
    "cursor.close()\n",
    "connection.close()\n",
    "\n",
    "print(\"Datos insertados exitosamente.\")"
   ]
  }
 ],
 "metadata": {
  "kernelspec": {
   "display_name": "Python 3",
   "language": "python",
   "name": "python3"
  },
  "language_info": {
   "codemirror_mode": {
    "name": "ipython",
    "version": 3
   },
   "file_extension": ".py",
   "mimetype": "text/x-python",
   "name": "python",
   "nbconvert_exporter": "python",
   "pygments_lexer": "ipython3",
   "version": "3.12.5"
  }
 },
 "nbformat": 4,
 "nbformat_minor": 2
}
